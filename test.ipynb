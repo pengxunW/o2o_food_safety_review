{
 "cells": [
  {
   "cell_type": "code",
   "execution_count": 14,
   "metadata": {},
   "outputs": [],
   "source": [
    "import torch\n",
    "import torch.nn as nn\n",
    "# Example of target with class indices\n",
    "loss = nn.CrossEntropyLoss()\n",
    "input = torch.randn(3, 5, requires_grad=True)\n",
    "target = torch.empty(3, dtype=torch.long).random_(5)\n",
    "output = loss(input, target)\n",
    "output.backward()\n",
    "# Example of target with class probabilities\n",
    "input = torch.randn(3, 5, requires_grad=True)\n",
    "target = torch.randn(3, 5).softmax(dim=1)\n",
    "output = loss(input, target)\n",
    "output.backward()"
   ]
  },
  {
   "cell_type": "code",
   "execution_count": 15,
   "metadata": {},
   "outputs": [
    {
     "name": "stdout",
     "output_type": "stream",
     "text": [
      "{'fold_1': {'test_acc': [1, 2, 3, 4], 'test_loss': [0.1, 0.2, 0.3, 0.4]}}\n"
     ]
    }
   ],
   "source": [
    "import pickle\n",
    "evaluating_indicators_per_fold = {}\n",
    "history = {'test_acc':[1,2,3,4], 'test_loss': [0.1, 0.2 ,0.3, 0.4]}\n",
    "i = 1\n",
    "evaluating_indicators_per_fold['fold_{}'.format(i)] = history\n",
    "with open('./log/evaluating_indicators_per_fold.pkl', 'wb') as f:\n",
    "    pickle.dump(evaluating_indicators_per_fold, f)\n",
    "# 从pkl文件中加载字典\n",
    "with open('./log/evaluating_indicators_per_fold.pkl', 'rb') as f:\n",
    "    loaded_dict = pickle.load(f)\n",
    "# 打印加载后的字典\n",
    "print(loaded_dict)"
   ]
  },
  {
   "cell_type": "code",
   "execution_count": 1,
   "metadata": {},
   "outputs": [],
   "source": [
    "import logging\n",
    "logger = logging.getLogger(__name__)\n",
    "logging.basicConfig(filename='example.log', encoding='utf-8', level=logging.DEBUG)\n",
    "logger.debug('This message should go to the log file')\n",
    "logger.info('So should this')\n",
    "logger.warning('And this, too')\n",
    "logger.error('And non-ASCII stuff, too, like Øresund and Malmö')"
   ]
  }
 ],
 "metadata": {
  "kernelspec": {
   "display_name": "pytorch_env",
   "language": "python",
   "name": "python3"
  },
  "language_info": {
   "codemirror_mode": {
    "name": "ipython",
    "version": 3
   },
   "file_extension": ".py",
   "mimetype": "text/x-python",
   "name": "python",
   "nbconvert_exporter": "python",
   "pygments_lexer": "ipython3",
   "version": "3.9.17"
  }
 },
 "nbformat": 4,
 "nbformat_minor": 2
}
